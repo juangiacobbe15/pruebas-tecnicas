{
  "nbformat": 4,
  "nbformat_minor": 0,
  "metadata": {
    "colab": {
      "provenance": []
    },
    "kernelspec": {
      "name": "python3",
      "display_name": "Python 3"
    },
    "language_info": {
      "name": "python"
    }
  },
  "cells": [
    {
      "cell_type": "markdown",
      "source": [
        "#Jueves técnico #1\n",
        "\n"
      ],
      "metadata": {
        "id": "g12n57h2U0zn"
      }
    },
    {
      "cell_type": "markdown",
      "source": [
        "##Enunciado\n",
        "\n",
        " Dada una frase, devolver en un arreglo todas las palabras que tienen la misma\n",
        " longitud que la mas corta de la frase.\n",
        "\n",
        "Ejemplo:\n",
        "entrada: \"que lindo dia de sol en san antonio de areco no hay nuber en el cielo\"\n",
        "\n",
        "salida esperada: de, en, no, el\n",
        "\n",
        "\n",
        "\n",
        "---\n",
        "\n"
      ],
      "metadata": {
        "id": "zNnmBZy9Vf_N"
      }
    },
    {
      "cell_type": "markdown",
      "source": [
        "Comenzamos este ejercicio definiendo nuestras pruebas a pasar(acordémonos siempre de aplicar la metodología de TDD, por más que este ejercicio sea corto)"
      ],
      "metadata": {
        "id": "qtVRjdqZX_yn"
      }
    },
    {
      "cell_type": "code",
      "source": [
        "def testPalabrasCortas():\n",
        "    assert obtenerPalabrasCortas('que lindo dia de sol en san antonio de areco no hay nuber en el cielo') == ['de', 'en', 'no', 'el'], \"Error: no se obtuvo el resultado esperado\"\n",
        "    assert obtenerPalabrasCortas('QuE lindo dia de sol en .san, antonio de areco no hay nuber en el cielo') == ['de', 'en', 'no', 'el'], \"Error: no se obtuvo el resultado esperado\"\n",
        "    assert obtenerPalabrasCortas('Sé el cambio que quieres ver en el mundo') == ['sé', 'el', 'en'], \"Error: no se obtuvo el resultado esperado\"\n",
        "\n",
        "    print(\"Todas las pruebas pasaron correctamente\")"
      ],
      "metadata": {
        "id": "Dt_RYdsKYKJu"
      },
      "execution_count": 2,
      "outputs": []
    },
    {
      "cell_type": "markdown",
      "source": [
        "Fijémonos en lo que quiero testear: yo creé dos tests en los cuales pruebo el mismo string, pero difieren en algunos caracteres(el segundo test tiene una frase con varias mayúsculas y con puntos y comas). Lo que quiero es que el programa no sea sensible a estos caracteres especiales, y quiero tener el mismo output, así que testeo ambos casos. Ya en la tercer prueba uso una frase nueva para asegurarme que mi programa se adapta a nuevas frases que le pasemos."
      ],
      "metadata": {
        "id": "WV0tttWrYOmE"
      }
    },
    {
      "cell_type": "markdown",
      "source": [
        "Definamos entonces una función que tome la frase original, y haga las transformaciones necesarias, esto es:\n",
        "\n",
        "\n",
        "*   Reescribir el string original en formato lower case(minúsculas).\n",
        "*   Eliminar absolutamente todos los puntos y comas de la frase.\n",
        "\n",
        "No puede faltar, lo hacemos con TDD\n",
        "\n"
      ],
      "metadata": {
        "id": "LGelspFdYyJh"
      }
    },
    {
      "cell_type": "code",
      "source": [
        "def testTransformadorDeTexto():\n",
        "    assert transformarTexto('QuE lindo dia de sol en .san, antonio de areco no hay nuber en el cielo') == 'que lindo dia de sol en san antonio de areco no hay nuber en el cielo', \"Error: no se obtuvo el resultado esperado\"\n",
        "    assert transformarTexto('Sé el cambio que quieres ver en el mundo') == 'sé el cambio que quieres ver en el mundo', \"Error: no se obtuvo el resultado esperado\"\n",
        "\n",
        "    print(\"Todas las pruebas pasaron correctamente\")"
      ],
      "metadata": {
        "id": "Q_QBxTXBZqb2"
      },
      "execution_count": 3,
      "outputs": []
    },
    {
      "cell_type": "markdown",
      "source": [
        "Si corremos esta función tendremos un error, porque justamente no está definido el transformarTexto"
      ],
      "metadata": {
        "id": "KUoKPtZzZul3"
      }
    },
    {
      "cell_type": "code",
      "source": [
        "testTransformadorDeTexto()"
      ],
      "metadata": {
        "colab": {
          "base_uri": "https://localhost:8080/",
          "height": 297
        },
        "id": "8R8JDAcVZ0LY",
        "outputId": "a492c7e5-28fe-4f1a-c7ac-785ebccd6d09"
      },
      "execution_count": 4,
      "outputs": [
        {
          "output_type": "error",
          "ename": "NameError",
          "evalue": "name 'transformarTexto' is not defined",
          "traceback": [
            "\u001b[0;31m---------------------------------------------------------------------------\u001b[0m",
            "\u001b[0;31mNameError\u001b[0m                                 Traceback (most recent call last)",
            "\u001b[0;32m<ipython-input-4-2b347cce7697>\u001b[0m in \u001b[0;36m<cell line: 1>\u001b[0;34m()\u001b[0m\n\u001b[0;32m----> 1\u001b[0;31m \u001b[0mtestTransformadorDeTexto\u001b[0m\u001b[0;34m(\u001b[0m\u001b[0;34m)\u001b[0m\u001b[0;34m\u001b[0m\u001b[0;34m\u001b[0m\u001b[0m\n\u001b[0m",
            "\u001b[0;32m<ipython-input-3-17a4bde3da7c>\u001b[0m in \u001b[0;36mtestTransformadorDeTexto\u001b[0;34m()\u001b[0m\n\u001b[1;32m      1\u001b[0m \u001b[0;32mdef\u001b[0m \u001b[0mtestTransformadorDeTexto\u001b[0m\u001b[0;34m(\u001b[0m\u001b[0;34m)\u001b[0m\u001b[0;34m:\u001b[0m\u001b[0;34m\u001b[0m\u001b[0;34m\u001b[0m\u001b[0m\n\u001b[0;32m----> 2\u001b[0;31m     \u001b[0;32massert\u001b[0m \u001b[0mtransformarTexto\u001b[0m\u001b[0;34m(\u001b[0m\u001b[0;34m'QuE lindo dia de sol en .san, antonio de areco no hay nuber en el cielo'\u001b[0m\u001b[0;34m)\u001b[0m \u001b[0;34m==\u001b[0m \u001b[0;34m'que lindo dia de sol en san antonio de areco no hay nuber en el cielo'\u001b[0m\u001b[0;34m,\u001b[0m \u001b[0;34m\"Error: no se obtuvo el resultado esperado\"\u001b[0m\u001b[0;34m\u001b[0m\u001b[0;34m\u001b[0m\u001b[0m\n\u001b[0m\u001b[1;32m      3\u001b[0m     \u001b[0;32massert\u001b[0m \u001b[0mtransformarTexto\u001b[0m\u001b[0;34m(\u001b[0m\u001b[0;34m'Sé el cambio que quieres ver en el mundo'\u001b[0m\u001b[0;34m)\u001b[0m \u001b[0;34m==\u001b[0m \u001b[0;34m'sé el cambio que quieres ver en el mundo'\u001b[0m\u001b[0;34m,\u001b[0m \u001b[0;34m\"Error: no se obtuvo el resultado esperado\"\u001b[0m\u001b[0;34m\u001b[0m\u001b[0;34m\u001b[0m\u001b[0m\n\u001b[1;32m      4\u001b[0m \u001b[0;34m\u001b[0m\u001b[0m\n\u001b[1;32m      5\u001b[0m     \u001b[0mprint\u001b[0m\u001b[0;34m(\u001b[0m\u001b[0;34m\"Todas las pruebas pasaron correctamente\"\u001b[0m\u001b[0;34m)\u001b[0m\u001b[0;34m\u001b[0m\u001b[0;34m\u001b[0m\u001b[0m\n",
            "\u001b[0;31mNameError\u001b[0m: name 'transformarTexto' is not defined"
          ]
        }
      ]
    },
    {
      "cell_type": "markdown",
      "source": [
        "Pasamos a definirla"
      ],
      "metadata": {
        "id": "OY7G0GEGZ37W"
      }
    },
    {
      "cell_type": "code",
      "source": [
        "def transformarTexto(frase):\n",
        "    fraseFinal = frase.lower()\n",
        "    fraseFinal = fraseFinal.replace(\",\", \"\")\n",
        "    fraseFinal = fraseFinal.replace(\".\", \"\")\n",
        "\n",
        "    return fraseFinal"
      ],
      "metadata": {
        "id": "_gNhJJqlZ5Uq"
      },
      "execution_count": 5,
      "outputs": []
    },
    {
      "cell_type": "markdown",
      "source": [
        "Fijémonos en lo que hace esta función: primero toma la frase, la pasa a formato lower case, y luego en donde aparezca una , o un . pondremos un string vacío, por lo que desaparecerán todos estos caracteres. Retornamos esta fraseFinal, y ahora sí, nuestras pruebas de esta función pasarán."
      ],
      "metadata": {
        "id": "BwIr5KAkZ7cZ"
      }
    },
    {
      "cell_type": "code",
      "source": [
        "testTransformadorDeTexto()"
      ],
      "metadata": {
        "colab": {
          "base_uri": "https://localhost:8080/"
        },
        "id": "MkkL2Ag1aVLa",
        "outputId": "45f58485-0fed-45b0-c588-f0aad9dc5507"
      },
      "execution_count": 6,
      "outputs": [
        {
          "output_type": "stream",
          "name": "stdout",
          "text": [
            "Todas las pruebas pasaron correctamente\n"
          ]
        }
      ]
    },
    {
      "cell_type": "markdown",
      "source": [
        "Ya tenemos una parte del problema resuelto. Ahora, pasemos a definir la función que efectivamente retorna la lista con las palabras cortas."
      ],
      "metadata": {
        "id": "hyqjdtavaYRm"
      }
    },
    {
      "cell_type": "code",
      "source": [
        "def obtenerLogitudMasCorta(arreglo):\n",
        "  longitudMasCorta = len(arreglo[0])\n",
        "  for palabra in arreglo:\n",
        "      if (len(palabra) < longitudMasCorta):\n",
        "          longitudMasCorta = len(palabra)\n",
        "\n",
        "  return longitudMasCorta"
      ],
      "metadata": {
        "id": "K6usCuTwap4O"
      },
      "execution_count": 12,
      "outputs": []
    },
    {
      "cell_type": "code",
      "source": [
        "def obtenerPalabrasCortas(frase):\n",
        "    fraseFinal = transformarTexto(frase)\n",
        "    fraseArreglo = fraseFinal.split(\" \")\n",
        "\n",
        "    longitudMasCorta = obtenerLogitudMasCorta(fraseArreglo)\n",
        "\n",
        "    listaPalabrasCortas = []\n",
        "\n",
        "    for palabra in fraseArreglo:\n",
        "        if ((len(palabra) == longitudMasCorta) and (palabra not in listaPalabrasCortas)):\n",
        "            listaPalabrasCortas.append(palabra)\n",
        "\n",
        "    return listaPalabrasCortas"
      ],
      "metadata": {
        "id": "wIBZddh2aguY"
      },
      "execution_count": 13,
      "outputs": []
    },
    {
      "cell_type": "markdown",
      "source": [
        "Lo que hace esta función es utilizar el método split de Python, que lo que hace es partir la frase por cada caracter que le mandemos como argumento(en este caso partimos por cada espacio en blanco, para así tener una partición de la frase por palabra), y nos devolverá un array con todos los elementos que resultan de esta partición. A continuación, determinamos la palabra con la longitud más corta con la función obtenerLongitudMasCorta, en donde recorro el array de palabras y devuelvo la longitud más corta. Y por último, voy a recorrer nuevamente el array de palabras, y voy a ir preguntando palabra a palabra su longitud, y si su longitud es igual a la longitud más corta, entonces voy a agregar esa palabra a la lista de las palabras más cortas que voy a terminar devolviendo al final de la función."
      ],
      "metadata": {
        "id": "rckCAcZEbV5A"
      }
    },
    {
      "cell_type": "markdown",
      "source": [
        "Una vez con todo definido, corremos las pruebas que definimos inicialmente"
      ],
      "metadata": {
        "id": "FjuEJxZMcSt3"
      }
    },
    {
      "cell_type": "code",
      "source": [
        "testPalabrasCortas()"
      ],
      "metadata": {
        "colab": {
          "base_uri": "https://localhost:8080/"
        },
        "id": "Ww-js-XBcW2B",
        "outputId": "99e5b81b-8f66-4791-dd5f-cbb76dc47d56"
      },
      "execution_count": 14,
      "outputs": [
        {
          "output_type": "stream",
          "name": "stdout",
          "text": [
            "Todas las pruebas pasaron correctamente\n"
          ]
        }
      ]
    },
    {
      "cell_type": "markdown",
      "source": [
        "Y con esto terminamos nuestro ejercicio!"
      ],
      "metadata": {
        "id": "pdBI0gaDcbUM"
      }
    }
  ]
}